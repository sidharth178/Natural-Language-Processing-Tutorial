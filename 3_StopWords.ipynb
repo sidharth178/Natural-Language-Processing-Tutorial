{
  "nbformat": 4,
  "nbformat_minor": 0,
  "metadata": {
    "colab": {
      "name": "3_StopWords.ipynb",
      "provenance": [],
      "collapsed_sections": [],
      "include_colab_link": true
    },
    "kernelspec": {
      "display_name": "Python 3",
      "language": "python",
      "name": "python3"
    },
    "language_info": {
      "codemirror_mode": {
        "name": "ipython",
        "version": 3
      },
      "file_extension": ".py",
      "mimetype": "text/x-python",
      "name": "python",
      "nbconvert_exporter": "python",
      "pygments_lexer": "ipython3",
      "version": "3.8.3"
    }
  },
  "cells": [
    {
      "cell_type": "markdown",
      "metadata": {
        "id": "view-in-github",
        "colab_type": "text"
      },
      "source": [
        "<a href=\"https://colab.research.google.com/github/sidharth178/Natural-Language-Processing-Tutorial/blob/master/3_StopWords.ipynb\" target=\"_parent\"><img src=\"https://colab.research.google.com/assets/colab-badge.svg\" alt=\"Open In Colab\"/></a>"
      ]
    },
    {
      "cell_type": "markdown",
      "metadata": {
        "id": "S5v33WyRCR2S"
      },
      "source": [
        "# Stop Words\n",
        "Stop words are those words that do not contribute to the deeper meaning of the phrase. They are the most common words such as: the, a, and is. For some applications like documentation classification, it may make sense to remove stop words. NLTK provides a list of commonly agreed upon stop words for a variety of languages, such as English.. "
      ]
    },
    {
      "cell_type": "code",
      "metadata": {
        "id": "M1ehwqoXCR2T"
      },
      "source": [
        "# Perform standard imports:\n",
        "import spacy\n",
        "nlp = spacy.load('en_core_web_sm')"
      ],
      "execution_count": null,
      "outputs": []
    },
    {
      "cell_type": "code",
      "metadata": {
        "colab": {
          "base_uri": "https://localhost:8080/"
        },
        "id": "0PZAtJwgCVNo",
        "outputId": "d93ae062-eaf5-42aa-b87a-49983aee59ff"
      },
      "source": [
        "import nltk\n",
        "nltk.download('stopwords')"
      ],
      "execution_count": null,
      "outputs": [
        {
          "output_type": "stream",
          "text": [
            "[nltk_data] Downloading package stopwords to /root/nltk_data...\n",
            "[nltk_data]   Unzipping corpora/stopwords.zip.\n"
          ],
          "name": "stdout"
        },
        {
          "output_type": "execute_result",
          "data": {
            "text/plain": [
              "True"
            ]
          },
          "metadata": {
            "tags": []
          },
          "execution_count": 1
        }
      ]
    },
    {
      "cell_type": "code",
      "metadata": {
        "colab": {
          "base_uri": "https://localhost:8080/",
          "height": 54
        },
        "id": "O3drpJkBCR2Z",
        "outputId": "164d75d1-7e89-4b18-f9b5-f607d7abc6aa"
      },
      "source": [
        "# Print the set of spaCy's default stop words (remember that sets are unordered):\n",
        "print(nlp.Defaults.stop_words)"
      ],
      "execution_count": null,
      "outputs": [
        {
          "output_type": "stream",
          "text": [
            "{'although', 'thereafter', 'elsewhere', 'among', 'another', 'almost', 'anywhere', 'already', 'sixty', 'own', 'toward', '‘ve', 'whatever', 'whether', 'did', 'of', 'within', 'here', 'using', 'would', '‘m', 'those', 'six', 'formerly', 'full', 'not', 'yet', 'five', 'everywhere', 'thereby', \"n't\", 'neither', 'except', 'along', 'from', 'latter', 'quite', 'herein', 'used', 'whereby', '’re', 'but', \"'m\", 'whence', 'hereby', 'next', 'a', 'somehow', 'by', 'too', 'therefore', 'ten', 'to', 'doing', 'whom', 'though', 'ourselves', 'n‘t', 'because', 'sometime', 'see', 'upon', 'becoming', 'mostly', 'could', 'something', 'via', 'none', 'on', 'for', 'back', 'ca', 'nine', 'during', 'most', 'should', 'hereupon', '‘re', 'anything', 'alone', 'whole', 'her', 'eight', 'will', 'such', 'moreover', 'which', 'regarding', 'out', 'at', 'then', 'empty', 'others', 'also', 'it', 'ever', 'they', 'even', 'meanwhile', \"'re\", 'fifteen', 'besides', 'very', 'him', 'anyone', \"'ve\", '’s', 'keep', 'thru', 'just', 'hereafter', 'becomes', '’ll', 'twelve', 'above', 'hers', 'latterly', 'really', 'show', 'while', 'the', 'them', 'cannot', 'became', 'various', 'she', 'top', 'bottom', 'every', 'wherein', 'less', 'into', 'any', 'whoever', 'whose', 'further', 'we', 'whenever', 'ours', 'an', 'noone', 'both', 'how', 'make', 'about', 'beside', 'across', 'themselves', 'say', \"'s\", 'nowhere', '‘s', 'somewhere', 'yourself', 'does', 'its', 'some', 're', 'seem', 'never', 'together', 'once', 'rather', 'beforehand', 'someone', 'otherwise', 'may', 'name', 'itself', 'part', 'first', 'afterwards', 'was', 'he', 'more', 'up', '‘d', 'three', 'that', 'onto', 'thereupon', 'become', 'i', 'former', 'yourselves', 'these', 'few', 'around', 'down', 'beyond', 'must', 'off', 'with', 'herself', 'serious', 'again', 'their', 'no', 'per', 'get', 'his', 'be', 'can', 'whereas', 'my', 'unless', 'against', 'amongst', 'indeed', 'call', 'enough', 'in', 'last', 'am', 'still', 'under', 'well', 'therein', 'anyway', 'please', 'only', 'what', 'nobody', 'who', 'our', 'mine', 'side', 'due', 'you', 'much', 'eleven', 'yours', 'done', '’d', 'made', 'or', 'go', 'everyone', \"'d\", 'behind', 'namely', 'do', 'hundred', 'whither', 'your', 'give', 'four', 'fifty', 'me', 'after', 'many', 'seemed', 'so', 'anyhow', 'n’t', 'hence', '‘ll', 'other', 'nevertheless', 'thus', 'towards', '’ve', 'everything', 'take', 'been', 'often', 'has', 'have', 'when', 'where', 'front', 'else', 'several', 'without', 'perhaps', 'seeming', 'sometimes', 'why', 'there', 'least', 'nothing', 'now', 'always', '’m', 'is', 'whereupon', 'were', 'seems', 'each', 'through', 'third', 'all', 'being', 'over', 'and', 'than', 'wherever', 'below', 'nor', 'since', 'throughout', 'myself', 'amount', 'us', 'move', 'one', \"'ll\", 'until', 'either', 'two', 'before', 'if', 'are', 'might', 'as', 'twenty', 'thence', 'himself', 'however', 'forty', 'same', 'put', 'had', 'between', 'this', 'whereafter'}\n"
          ],
          "name": "stdout"
        }
      ]
    },
    {
      "cell_type": "code",
      "metadata": {
        "colab": {
          "base_uri": "https://localhost:8080/"
        },
        "id": "85IEPdtYn2pu",
        "outputId": "cd397af0-58b1-447d-cf9b-02b6f0088829"
      },
      "source": [
        "from nltk.corpus import stopwords \n",
        "stopwords.words('english') # all stopwords in english language"
      ],
      "execution_count": null,
      "outputs": [
        {
          "output_type": "execute_result",
          "data": {
            "text/plain": [
              "['i',\n",
              " 'me',\n",
              " 'my',\n",
              " 'myself',\n",
              " 'we',\n",
              " 'our',\n",
              " 'ours',\n",
              " 'ourselves',\n",
              " 'you',\n",
              " \"you're\",\n",
              " \"you've\",\n",
              " \"you'll\",\n",
              " \"you'd\",\n",
              " 'your',\n",
              " 'yours',\n",
              " 'yourself',\n",
              " 'yourselves',\n",
              " 'he',\n",
              " 'him',\n",
              " 'his',\n",
              " 'himself',\n",
              " 'she',\n",
              " \"she's\",\n",
              " 'her',\n",
              " 'hers',\n",
              " 'herself',\n",
              " 'it',\n",
              " \"it's\",\n",
              " 'its',\n",
              " 'itself',\n",
              " 'they',\n",
              " 'them',\n",
              " 'their',\n",
              " 'theirs',\n",
              " 'themselves',\n",
              " 'what',\n",
              " 'which',\n",
              " 'who',\n",
              " 'whom',\n",
              " 'this',\n",
              " 'that',\n",
              " \"that'll\",\n",
              " 'these',\n",
              " 'those',\n",
              " 'am',\n",
              " 'is',\n",
              " 'are',\n",
              " 'was',\n",
              " 'were',\n",
              " 'be',\n",
              " 'been',\n",
              " 'being',\n",
              " 'have',\n",
              " 'has',\n",
              " 'had',\n",
              " 'having',\n",
              " 'do',\n",
              " 'does',\n",
              " 'did',\n",
              " 'doing',\n",
              " 'a',\n",
              " 'an',\n",
              " 'the',\n",
              " 'and',\n",
              " 'but',\n",
              " 'if',\n",
              " 'or',\n",
              " 'because',\n",
              " 'as',\n",
              " 'until',\n",
              " 'while',\n",
              " 'of',\n",
              " 'at',\n",
              " 'by',\n",
              " 'for',\n",
              " 'with',\n",
              " 'about',\n",
              " 'against',\n",
              " 'between',\n",
              " 'into',\n",
              " 'through',\n",
              " 'during',\n",
              " 'before',\n",
              " 'after',\n",
              " 'above',\n",
              " 'below',\n",
              " 'to',\n",
              " 'from',\n",
              " 'up',\n",
              " 'down',\n",
              " 'in',\n",
              " 'out',\n",
              " 'on',\n",
              " 'off',\n",
              " 'over',\n",
              " 'under',\n",
              " 'again',\n",
              " 'further',\n",
              " 'then',\n",
              " 'once',\n",
              " 'here',\n",
              " 'there',\n",
              " 'when',\n",
              " 'where',\n",
              " 'why',\n",
              " 'how',\n",
              " 'all',\n",
              " 'any',\n",
              " 'both',\n",
              " 'each',\n",
              " 'few',\n",
              " 'more',\n",
              " 'most',\n",
              " 'other',\n",
              " 'some',\n",
              " 'such',\n",
              " 'no',\n",
              " 'nor',\n",
              " 'not',\n",
              " 'only',\n",
              " 'own',\n",
              " 'same',\n",
              " 'so',\n",
              " 'than',\n",
              " 'too',\n",
              " 'very',\n",
              " 's',\n",
              " 't',\n",
              " 'can',\n",
              " 'will',\n",
              " 'just',\n",
              " 'don',\n",
              " \"don't\",\n",
              " 'should',\n",
              " \"should've\",\n",
              " 'now',\n",
              " 'd',\n",
              " 'll',\n",
              " 'm',\n",
              " 'o',\n",
              " 're',\n",
              " 've',\n",
              " 'y',\n",
              " 'ain',\n",
              " 'aren',\n",
              " \"aren't\",\n",
              " 'couldn',\n",
              " \"couldn't\",\n",
              " 'didn',\n",
              " \"didn't\",\n",
              " 'doesn',\n",
              " \"doesn't\",\n",
              " 'hadn',\n",
              " \"hadn't\",\n",
              " 'hasn',\n",
              " \"hasn't\",\n",
              " 'haven',\n",
              " \"haven't\",\n",
              " 'isn',\n",
              " \"isn't\",\n",
              " 'ma',\n",
              " 'mightn',\n",
              " \"mightn't\",\n",
              " 'mustn',\n",
              " \"mustn't\",\n",
              " 'needn',\n",
              " \"needn't\",\n",
              " 'shan',\n",
              " \"shan't\",\n",
              " 'shouldn',\n",
              " \"shouldn't\",\n",
              " 'wasn',\n",
              " \"wasn't\",\n",
              " 'weren',\n",
              " \"weren't\",\n",
              " 'won',\n",
              " \"won't\",\n",
              " 'wouldn',\n",
              " \"wouldn't\"]"
            ]
          },
          "metadata": {
            "tags": []
          },
          "execution_count": 2
        }
      ]
    },
    {
      "cell_type": "code",
      "metadata": {
        "colab": {
          "base_uri": "https://localhost:8080/",
          "height": 34
        },
        "id": "diWTTaRICR2g",
        "outputId": "ec779a00-2e5b-43e9-b526-721cfa755ad1"
      },
      "source": [
        "len(nlp.Defaults.stop_words)"
      ],
      "execution_count": null,
      "outputs": [
        {
          "output_type": "execute_result",
          "data": {
            "text/plain": [
              "326"
            ]
          },
          "metadata": {
            "tags": []
          },
          "execution_count": 4
        }
      ]
    },
    {
      "cell_type": "markdown",
      "metadata": {
        "id": "tWu19KsbCR2k"
      },
      "source": [
        "### **Check if a word is a stop word or not( use \"vocab\" method)**"
      ]
    },
    {
      "cell_type": "code",
      "metadata": {
        "colab": {
          "base_uri": "https://localhost:8080/",
          "height": 34
        },
        "id": "Sxj_JjAdCR2k",
        "outputId": "2fbdde00-9d43-42d9-b438-83dbf1040055"
      },
      "source": [
        "# We can check a word that is stopword or not by using vocab method\n",
        "nlp.vocab['myself'].is_stop # check \"myself\" is stopword or not"
      ],
      "execution_count": null,
      "outputs": [
        {
          "output_type": "execute_result",
          "data": {
            "text/plain": [
              "True"
            ]
          },
          "metadata": {
            "tags": []
          },
          "execution_count": 5
        }
      ]
    },
    {
      "cell_type": "code",
      "metadata": {
        "colab": {
          "base_uri": "https://localhost:8080/",
          "height": 34
        },
        "id": "Ep_V7bnOCR2o",
        "outputId": "aee5a5df-1185-4533-cda7-44dccdcddb8f"
      },
      "source": [
        "nlp.vocab['mystery'].is_stop"
      ],
      "execution_count": null,
      "outputs": [
        {
          "output_type": "execute_result",
          "data": {
            "text/plain": [
              "False"
            ]
          },
          "metadata": {
            "tags": []
          },
          "execution_count": 6
        }
      ]
    },
    {
      "cell_type": "markdown",
      "metadata": {
        "id": "Qm11dlyqkKoA"
      },
      "source": [
        "### **Make a word as stopword**"
      ]
    },
    {
      "cell_type": "code",
      "metadata": {
        "id": "U1vIs64dCR2t"
      },
      "source": [
        "# step-1: Add the word to the set of stop words. Use lowercase!\n",
        "nlp.Defaults.stop_words.add('mystery')"
      ],
      "execution_count": null,
      "outputs": []
    },
    {
      "cell_type": "code",
      "metadata": {
        "id": "SQnVv6JEiqHC"
      },
      "source": [
        "# step-2: Set the stop_word tag on the lexeme\n",
        "nlp.vocab['mystery'].is_stop = True"
      ],
      "execution_count": null,
      "outputs": []
    },
    {
      "cell_type": "code",
      "metadata": {
        "colab": {
          "base_uri": "https://localhost:8080/",
          "height": 34
        },
        "id": "IO-WF_1mCR2x",
        "outputId": "5182d797-f8b1-47b4-c384-2d823b415699"
      },
      "source": [
        "len(nlp.Defaults.stop_words)"
      ],
      "execution_count": null,
      "outputs": [
        {
          "output_type": "execute_result",
          "data": {
            "text/plain": [
              "327"
            ]
          },
          "metadata": {
            "tags": []
          },
          "execution_count": 8
        }
      ]
    },
    {
      "cell_type": "code",
      "metadata": {
        "colab": {
          "base_uri": "https://localhost:8080/",
          "height": 34
        },
        "id": "oMMCzOUACR21",
        "outputId": "8e8ae166-3a1f-46b9-b60c-d5a13f4deca4"
      },
      "source": [
        "nlp.vocab['mystery'].is_stop"
      ],
      "execution_count": null,
      "outputs": [
        {
          "output_type": "execute_result",
          "data": {
            "text/plain": [
              "True"
            ]
          },
          "metadata": {
            "tags": []
          },
          "execution_count": 10
        }
      ]
    },
    {
      "cell_type": "markdown",
      "metadata": {
        "id": "p58rPB42CR24"
      },
      "source": [
        "### **To remove a stop word**\n",
        "Alternatively, you may decide that `'beyond'` should not be considered a stop word."
      ]
    },
    {
      "cell_type": "code",
      "metadata": {
        "id": "0KEtYBNRCR25"
      },
      "source": [
        "# step-1: Remove the word from the set of stop words\n",
        "nlp.Defaults.stop_words.remove('and')\n",
        "\n",
        "# step-2: Remove the stop_word tag from the lexeme\n",
        "nlp.vocab['and'].is_stop = False"
      ],
      "execution_count": null,
      "outputs": []
    },
    {
      "cell_type": "code",
      "metadata": {
        "colab": {
          "base_uri": "https://localhost:8080/",
          "height": 34
        },
        "id": "iQr5IK3CCR28",
        "outputId": "a4f3f68a-6268-4ed1-c262-f870b2bd369c"
      },
      "source": [
        "len(nlp.Defaults.stop_words)"
      ],
      "execution_count": null,
      "outputs": [
        {
          "output_type": "execute_result",
          "data": {
            "text/plain": [
              "325"
            ]
          },
          "metadata": {
            "tags": []
          },
          "execution_count": 13
        }
      ]
    },
    {
      "cell_type": "code",
      "metadata": {
        "colab": {
          "base_uri": "https://localhost:8080/",
          "height": 34
        },
        "id": "ZLnWlnDQCR2_",
        "outputId": "019a669d-b077-4289-f567-5df00fbcb4d3"
      },
      "source": [
        "nlp.vocab['and'].is_stop"
      ],
      "execution_count": null,
      "outputs": [
        {
          "output_type": "execute_result",
          "data": {
            "text/plain": [
              "False"
            ]
          },
          "metadata": {
            "tags": []
          },
          "execution_count": 15
        }
      ]
    },
    {
      "cell_type": "markdown",
      "metadata": {
        "id": "TkNNj4SwkKoE"
      },
      "source": [
        "### **Print all stopwords from a line**"
      ]
    },
    {
      "cell_type": "code",
      "metadata": {
        "colab": {
          "base_uri": "https://localhost:8080/",
          "height": 51
        },
        "id": "TCyp1UmXCxgJ",
        "outputId": "3ea34f16-1f46-4b5a-b25e-d9d720a9debc"
      },
      "source": [
        "import string\n",
        "import re\n",
        "import nltk\n",
        "nltk.download('punkt')\n",
        "from nltk import word_tokenize,sent_tokenize\n",
        "from nltk.corpus import stopwords\n",
        "# load data\n",
        "text = 'The Quick brown fox jump over the lazy dog!'"
      ],
      "execution_count": null,
      "outputs": [
        {
          "output_type": "stream",
          "text": [
            "[nltk_data] Downloading package punkt to\n",
            "[nltk_data]     C:\\Users\\SIDHARTH\\AppData\\Roaming\\nltk_data...\n",
            "[nltk_data]   Unzipping tokenizers\\punkt.zip.\n"
          ],
          "name": "stderr"
        }
      ]
    },
    {
      "cell_type": "code",
      "metadata": {
        "colab": {
          "base_uri": "https://localhost:8080/",
          "height": 34
        },
        "id": "pehkONOeDPd-",
        "outputId": "f65a8bd5-7adf-4f49-b4e5-a191f4378f16"
      },
      "source": [
        "# split into words\n",
        "tokens = word_tokenize(text)\n",
        "print(tokens)"
      ],
      "execution_count": null,
      "outputs": [
        {
          "output_type": "stream",
          "text": [
            "['The', 'Quick', 'brown', 'fox', 'jump', 'over', 'the', 'lazy', 'dog', '!']\n"
          ],
          "name": "stdout"
        }
      ]
    },
    {
      "cell_type": "code",
      "metadata": {
        "colab": {
          "base_uri": "https://localhost:8080/",
          "height": 34
        },
        "id": "K0zTYJKID--l",
        "outputId": "2aadf62e-6504-43d6-f9db-a62d16c59c00"
      },
      "source": [
        "# convert to lower case\n",
        "tokens = [w.lower() for w in tokens]\n",
        "print(tokens)"
      ],
      "execution_count": null,
      "outputs": [
        {
          "output_type": "stream",
          "text": [
            "['the', 'quick', 'brown', 'fox', 'jump', 'over', 'the', 'lazy', 'dog', '!']\n"
          ],
          "name": "stdout"
        }
      ]
    },
    {
      "cell_type": "code",
      "metadata": {
        "colab": {
          "base_uri": "https://localhost:8080/",
          "height": 34
        },
        "id": "PXAJpO5hEEcj",
        "outputId": "2f5afa33-d27f-4a47-8112-770cd7a2da8d"
      },
      "source": [
        "# prepare regex for char filtering\n",
        "re_punc = re.compile('[%s]' % re.escape(string.punctuation))\n",
        "print(re_punc)"
      ],
      "execution_count": null,
      "outputs": [
        {
          "output_type": "stream",
          "text": [
            "re.compile('[!\"\\\\#\\\\$%\\\\&\\'\\\\(\\\\)\\\\*\\\\+,\\\\-\\\\./:;<=>\\\\?@\\\\[\\\\\\\\\\\\]\\\\^_`\\\\{\\\\|\\\\}\\\\~]')\n"
          ],
          "name": "stdout"
        }
      ]
    },
    {
      "cell_type": "code",
      "metadata": {
        "colab": {
          "base_uri": "https://localhost:8080/",
          "height": 34
        },
        "id": "IRupmyA-EF7z",
        "outputId": "57187a4f-2fb1-4500-e194-227f377a05f3"
      },
      "source": [
        "# remove punctuation from each word\n",
        "stripped = [re_punc.sub('', w) for w in tokens]\n",
        "print(stripped)"
      ],
      "execution_count": null,
      "outputs": [
        {
          "output_type": "stream",
          "text": [
            "['the', 'quick', 'brown', 'fox', 'jump', 'over', 'the', 'lazy', 'dog', '']\n"
          ],
          "name": "stdout"
        }
      ]
    },
    {
      "cell_type": "code",
      "metadata": {
        "colab": {
          "base_uri": "https://localhost:8080/",
          "height": 34
        },
        "id": "c0__AkhWEHPT",
        "outputId": "5d8bf427-19e9-47a0-c269-31d4ce85f49e"
      },
      "source": [
        "# remove remaining tokens that are not alphabetic\n",
        "words = [word for word in stripped if word.isalpha()]\n",
        "print(words)"
      ],
      "execution_count": null,
      "outputs": [
        {
          "output_type": "stream",
          "text": [
            "['the', 'quick', 'brown', 'fox', 'jump', 'over', 'the', 'lazy', 'dog']\n"
          ],
          "name": "stdout"
        }
      ]
    },
    {
      "cell_type": "code",
      "metadata": {
        "colab": {
          "base_uri": "https://localhost:8080/",
          "height": 34
        },
        "id": "6WYqyINsEIhD",
        "outputId": "1917537b-051f-43e8-bb76-6d741163eecf"
      },
      "source": [
        "# filter out non-stop words\n",
        "stop_words = set(stopwords.words('english'))\n",
        "words = [w for w in words if not w in stop_words]\n",
        "print(words)"
      ],
      "execution_count": null,
      "outputs": [
        {
          "output_type": "stream",
          "text": [
            "['quick', 'brown', 'fox', 'jump', 'lazy', 'dog']\n"
          ],
          "name": "stdout"
        }
      ]
    },
    {
      "cell_type": "code",
      "metadata": {
        "colab": {
          "base_uri": "https://localhost:8080/",
          "height": 34
        },
        "id": "2DdtvLMggo4P",
        "outputId": "e32cca62-64b8-4b6a-8479-330e2b485d90"
      },
      "source": [
        "# Check remaining tokens are stopword or not\n",
        "nlp.vocab['dog'].is_stop"
      ],
      "execution_count": null,
      "outputs": [
        {
          "output_type": "execute_result",
          "data": {
            "text/plain": [
              "False"
            ]
          },
          "metadata": {
            "tags": []
          },
          "execution_count": 24
        }
      ]
    },
    {
      "cell_type": "code",
      "metadata": {
        "id": "khKxrWYhgp1P"
      },
      "source": [
        ""
      ],
      "execution_count": null,
      "outputs": []
    }
  ]
}