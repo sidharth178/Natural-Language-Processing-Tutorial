{
  "nbformat": 4,
  "nbformat_minor": 0,
  "metadata": {
    "colab": {
      "name": "7_Sentence_Segmentation.ipynb",
      "provenance": [],
      "collapsed_sections": [],
      "include_colab_link": true
    },
    "kernelspec": {
      "display_name": "Python 3",
      "language": "python",
      "name": "python3"
    },
    "language_info": {
      "codemirror_mode": {
        "name": "ipython",
        "version": 3
      },
      "file_extension": ".py",
      "mimetype": "text/x-python",
      "name": "python",
      "nbconvert_exporter": "python",
      "pygments_lexer": "ipython3",
      "version": "3.6.7"
    }
  },
  "cells": [
    {
      "cell_type": "markdown",
      "metadata": {
        "id": "view-in-github",
        "colab_type": "text"
      },
      "source": [
        "<a href=\"https://colab.research.google.com/github/sidharth178/Natural-Language-Processing-Tutorial/blob/master/7_Sentence_Segmentation.ipynb\" target=\"_parent\"><img src=\"https://colab.research.google.com/assets/colab-badge.svg\" alt=\"Open In Colab\"/></a>"
      ]
    },
    {
      "cell_type": "markdown",
      "metadata": {
        "id": "72BScxzsCA86"
      },
      "source": [
        "# Sentence Segmentation\n",
        "Sentence segmentation is the process of determining the longer processing units consisting of one or more words. This task involves identifying sentence boundaries between words in different sentences.\n",
        "\n",
        "In **spaCy Basics** we saw briefly how Doc objects are divided into sentences. In this section we'll learn how sentence segmentation works, and how to set our own segmentation rules."
      ]
    },
    {
      "cell_type": "code",
      "metadata": {
        "id": "K5WFCfx7CA87"
      },
      "source": [
        "# Perform standard imports\n",
        "import spacy\n",
        "nlp = spacy.load('en_core_web_sm')"
      ],
      "execution_count": null,
      "outputs": []
    },
    {
      "cell_type": "code",
      "metadata": {
        "colab": {
          "base_uri": "https://localhost:8080/",
          "height": 68
        },
        "id": "HN_2-YB2CA9B",
        "outputId": "30579482-f4fc-49fd-a019-92a48c2f0ba3"
      },
      "source": [
        "# From Spacy Basics:\n",
        "doc = nlp(u'This is the first sentence. This is another sentence. This is the last sentence.')\n",
        "\n",
        "for sent in doc.sents:\n",
        "    print(sent)"
      ],
      "execution_count": null,
      "outputs": [
        {
          "output_type": "stream",
          "text": [
            "This is the first sentence.\n",
            "This is another sentence.\n",
            "This is the last sentence.\n"
          ],
          "name": "stdout"
        }
      ]
    },
    {
      "cell_type": "markdown",
      "metadata": {
        "id": "Mru6ngfWCA9G"
      },
      "source": [
        "### `Doc.sents` is a generator\n",
        "It is important to note that `doc.sents` is a *generator*. That is, a Doc is not segmented until `doc.sents` is called. This means that, where you could print the second Doc token with `print(doc[1])`, you can't call the \"second Doc sentence\" with `print(doc.sents[1])`:"
      ]
    },
    {
      "cell_type": "code",
      "metadata": {
        "colab": {
          "base_uri": "https://localhost:8080/",
          "height": 34
        },
        "id": "_ODLi_omCA9G",
        "outputId": "9c8e055d-154c-4837-e25a-6449d8671f95"
      },
      "source": [
        "print(doc[1])"
      ],
      "execution_count": null,
      "outputs": [
        {
          "output_type": "stream",
          "text": [
            "is\n"
          ],
          "name": "stdout"
        }
      ]
    },
    {
      "cell_type": "code",
      "metadata": {
        "colab": {
          "base_uri": "https://localhost:8080/",
          "height": 163
        },
        "id": "OuxdqmH_CA9K",
        "outputId": "b00ecb98-b5e0-46f5-a8ec-5715151474f0"
      },
      "source": [
        "print(doc.sents[1])"
      ],
      "execution_count": null,
      "outputs": [
        {
          "output_type": "error",
          "ename": "TypeError",
          "evalue": "ignored",
          "traceback": [
            "\u001b[0;31m---------------------------------------------------------------------------\u001b[0m",
            "\u001b[0;31mTypeError\u001b[0m                                 Traceback (most recent call last)",
            "\u001b[0;32m<ipython-input-4-2bc012eee1da>\u001b[0m in \u001b[0;36m<module>\u001b[0;34m()\u001b[0m\n\u001b[0;32m----> 1\u001b[0;31m \u001b[0mprint\u001b[0m\u001b[0;34m(\u001b[0m\u001b[0mdoc\u001b[0m\u001b[0;34m.\u001b[0m\u001b[0msents\u001b[0m\u001b[0;34m[\u001b[0m\u001b[0;36m1\u001b[0m\u001b[0;34m]\u001b[0m\u001b[0;34m)\u001b[0m\u001b[0;34m\u001b[0m\u001b[0;34m\u001b[0m\u001b[0m\n\u001b[0m",
            "\u001b[0;31mTypeError\u001b[0m: 'generator' object is not subscriptable"
          ]
        }
      ]
    },
    {
      "cell_type": "markdown",
      "metadata": {
        "id": "S_Dp1yuFCA9O"
      },
      "source": [
        "However, you *can* build a sentence collection by running `doc.sents` and saving the result to a list:"
      ]
    },
    {
      "cell_type": "code",
      "metadata": {
        "colab": {
          "base_uri": "https://localhost:8080/",
          "height": 68
        },
        "id": "bbWZJKLSCA9P",
        "outputId": "19eeb363-0780-4bf5-bf8a-cd0b8f9f961e"
      },
      "source": [
        "doc_sents = [sent for sent in doc.sents]\n",
        "doc_sents"
      ],
      "execution_count": null,
      "outputs": [
        {
          "output_type": "execute_result",
          "data": {
            "text/plain": [
              "[This is the first sentence.,\n",
              " This is another sentence.,\n",
              " This is the last sentence.]"
            ]
          },
          "metadata": {
            "tags": []
          },
          "execution_count": 5
        }
      ]
    },
    {
      "cell_type": "markdown",
      "metadata": {
        "id": "ep0zsLHyCA9T"
      },
      "source": [
        "<font color=green>**NOTE**: `list(doc.sents)` also works. We show a list comprehension as it allows you to pass in conditionals.</font>"
      ]
    },
    {
      "cell_type": "code",
      "metadata": {
        "colab": {
          "base_uri": "https://localhost:8080/",
          "height": 34
        },
        "id": "JTTju4hiCA9T",
        "outputId": "255b8b8a-a9b3-4e5e-ce5b-07b87a8a7459"
      },
      "source": [
        "# Now you can access individual sentences:\n",
        "print(doc_sents[1])"
      ],
      "execution_count": null,
      "outputs": [
        {
          "output_type": "stream",
          "text": [
            "This is another sentence.\n"
          ],
          "name": "stdout"
        }
      ]
    },
    {
      "cell_type": "markdown",
      "metadata": {
        "id": "_8s4hUYHCA9Y"
      },
      "source": [
        "### `sents` are Spans\n",
        "At first glance it looks like each `sent` contains text from the original Doc object. In fact they're just Spans with start and end token pointers."
      ]
    },
    {
      "cell_type": "code",
      "metadata": {
        "colab": {
          "base_uri": "https://localhost:8080/",
          "height": 34
        },
        "id": "Pf7CtGexCA9Y",
        "outputId": "b6c5cd86-fbaa-4397-aa7a-36724039f558"
      },
      "source": [
        "type(doc_sents[1])"
      ],
      "execution_count": null,
      "outputs": [
        {
          "output_type": "execute_result",
          "data": {
            "text/plain": [
              "spacy.tokens.span.Span"
            ]
          },
          "metadata": {
            "tags": []
          },
          "execution_count": 7
        }
      ]
    },
    {
      "cell_type": "code",
      "metadata": {
        "colab": {
          "base_uri": "https://localhost:8080/",
          "height": 34
        },
        "id": "K7bvy3HJCA9d",
        "outputId": "0629060d-7a7a-42fd-d85d-137e881d7615"
      },
      "source": [
        "print(doc_sents[1].start, doc_sents[1].end)"
      ],
      "execution_count": null,
      "outputs": [
        {
          "output_type": "stream",
          "text": [
            "6 11\n"
          ],
          "name": "stdout"
        }
      ]
    },
    {
      "cell_type": "markdown",
      "metadata": {
        "id": "NKE_3h9kCA9g"
      },
      "source": [
        "## Adding Rules\n",
        "spaCy's built-in `sentencizer` relies on the dependency parse and end-of-sentence punctuation to determine segmentation rules. We can add rules of our own, but they have to be added *before* the creation of the Doc object, as that is where the parsing of segment start tokens happens:"
      ]
    },
    {
      "cell_type": "code",
      "metadata": {
        "colab": {
          "base_uri": "https://localhost:8080/",
          "height": 272
        },
        "id": "tJPRiEwbCA9h",
        "outputId": "b273572e-3572-4e8f-f9c3-cbef1fe100ee"
      },
      "source": [
        "# Parsing the segmentation start tokens happens during the nlp pipeline\n",
        "doc2 = nlp(u'This is a sentence. This is a sentence. This is a sentence.')\n",
        "\n",
        "for token in doc2:\n",
        "    print(token.is_sent_start, ' '+token.text)"
      ],
      "execution_count": null,
      "outputs": [
        {
          "output_type": "stream",
          "text": [
            "True  This\n",
            "None  is\n",
            "None  a\n",
            "None  sentence\n",
            "None  .\n",
            "True  This\n",
            "None  is\n",
            "None  a\n",
            "None  sentence\n",
            "None  .\n",
            "True  This\n",
            "None  is\n",
            "None  a\n",
            "None  sentence\n",
            "None  .\n"
          ],
          "name": "stdout"
        }
      ]
    },
    {
      "cell_type": "markdown",
      "metadata": {
        "id": "6ZNJtaY8CA9p"
      },
      "source": [
        "<font color=green>Notice we haven't run `doc2.sents`, and yet `token.is_sent_start` was set to True on two tokens in the Doc.</font>"
      ]
    },
    {
      "cell_type": "markdown",
      "metadata": {
        "id": "qyo3h8YxCA9p"
      },
      "source": [
        "Let's add a semicolon to our existing segmentation rules. That is, whenever the sentencizer encounters a semicolon, the next token should start a new segment."
      ]
    },
    {
      "cell_type": "code",
      "metadata": {
        "colab": {
          "base_uri": "https://localhost:8080/",
          "height": 68
        },
        "id": "mEqnYvN3CA9q",
        "outputId": "a05d156a-c07e-40f0-df4c-78c5fa6c972c"
      },
      "source": [
        "# SPACY'S DEFAULT BEHAVIOR\n",
        "doc3 = nlp(u'\"Management is doing things right; leadership is doing the right things.\" -Peter Drucker')\n",
        "\n",
        "for sent in doc3.sents:\n",
        "    print(sent)"
      ],
      "execution_count": null,
      "outputs": [
        {
          "output_type": "stream",
          "text": [
            "\"Management is doing things right; leadership is doing the right things.\"\n",
            "-Peter\n",
            "Drucker\n"
          ],
          "name": "stdout"
        }
      ]
    },
    {
      "cell_type": "code",
      "metadata": {
        "colab": {
          "base_uri": "https://localhost:8080/",
          "height": 34
        },
        "id": "mM0uFppqCA9t",
        "outputId": "9cece9fe-0fe5-4107-ef58-af78ca6d1477"
      },
      "source": [
        "# ADD A NEW RULE TO THE PIPELINE\n",
        "def set_custom_boundaries(doc):\n",
        "    for token in doc[:-1]:\n",
        "        if token.text == ';':\n",
        "            doc[token.i+1].is_sent_start = True\n",
        "    return doc\n",
        "\n",
        "nlp.add_pipe(set_custom_boundaries, before='parser')\n",
        "\n",
        "nlp.pipe_names"
      ],
      "execution_count": null,
      "outputs": [
        {
          "output_type": "execute_result",
          "data": {
            "text/plain": [
              "['tagger', 'set_custom_boundaries', 'parser', 'ner']"
            ]
          },
          "metadata": {
            "tags": []
          },
          "execution_count": 11
        }
      ]
    },
    {
      "cell_type": "markdown",
      "metadata": {
        "id": "zUSJaV-JCA9w"
      },
      "source": [
        "<font color=green>The new rule has to run before the document is parsed. Here we can either pass the argument `before='parser'` or `first=True`."
      ]
    },
    {
      "cell_type": "code",
      "metadata": {
        "colab": {
          "base_uri": "https://localhost:8080/",
          "height": 85
        },
        "id": "cDaDbRpaCA9w",
        "outputId": "16a67e3e-9c7b-4d89-d40b-ee1dadca6cee"
      },
      "source": [
        "# Re-run the Doc object creation:\n",
        "doc4 = nlp(u'\"Management is doing things right; leadership is doing the right things.\" -Peter Drucker')\n",
        "\n",
        "for sent in doc4.sents:\n",
        "    print(sent)"
      ],
      "execution_count": null,
      "outputs": [
        {
          "output_type": "stream",
          "text": [
            "\"Management is doing things right;\n",
            "leadership is doing the right things.\"\n",
            "-Peter\n",
            "Drucker\n"
          ],
          "name": "stdout"
        }
      ]
    },
    {
      "cell_type": "code",
      "metadata": {
        "colab": {
          "base_uri": "https://localhost:8080/",
          "height": 68
        },
        "id": "zzSLf3MPCA9z",
        "outputId": "3517c7bc-c374-44ab-9a99-f3af480b8f96"
      },
      "source": [
        "# And yet the new rule doesn't apply to the older Doc object:\n",
        "for sent in doc3.sents:\n",
        "    print(sent)"
      ],
      "execution_count": null,
      "outputs": [
        {
          "output_type": "stream",
          "text": [
            "\"Management is doing things right; leadership is doing the right things.\"\n",
            "-Peter\n",
            "Drucker\n"
          ],
          "name": "stdout"
        }
      ]
    },
    {
      "cell_type": "markdown",
      "metadata": {
        "id": "WStY2VAUCA92"
      },
      "source": [
        "### Why not change the token directly?\n",
        "Why not simply set the `.is_sent_start` value to True on existing tokens?"
      ]
    },
    {
      "cell_type": "code",
      "metadata": {
        "colab": {
          "base_uri": "https://localhost:8080/",
          "height": 34
        },
        "id": "UOZK5mx1CA93",
        "outputId": "93ce70f4-2d4a-4dc3-89f2-90f482d2cb61"
      },
      "source": [
        "# Find the token we want to change:\n",
        "doc3[7]"
      ],
      "execution_count": null,
      "outputs": [
        {
          "output_type": "execute_result",
          "data": {
            "text/plain": [
              "leadership"
            ]
          },
          "metadata": {
            "tags": []
          },
          "execution_count": 14
        }
      ]
    },
    {
      "cell_type": "code",
      "metadata": {
        "colab": {
          "base_uri": "https://localhost:8080/",
          "height": 214
        },
        "id": "KmU9zBADCA96",
        "outputId": "45f34e09-8c8c-4d10-8633-2c9bc51ed65b"
      },
      "source": [
        "# Try to change the .is_sent_start attribute:\n",
        "doc3[7].is_sent_start = True"
      ],
      "execution_count": null,
      "outputs": [
        {
          "output_type": "error",
          "ename": "ValueError",
          "evalue": "ignored",
          "traceback": [
            "\u001b[0;31m---------------------------------------------------------------------------\u001b[0m",
            "\u001b[0;31mValueError\u001b[0m                                Traceback (most recent call last)",
            "\u001b[0;32m<ipython-input-15-bcec3fe6a9a2>\u001b[0m in \u001b[0;36m<module>\u001b[0;34m()\u001b[0m\n\u001b[1;32m      1\u001b[0m \u001b[0;31m# Try to change the .is_sent_start attribute:\u001b[0m\u001b[0;34m\u001b[0m\u001b[0;34m\u001b[0m\u001b[0;34m\u001b[0m\u001b[0m\n\u001b[0;32m----> 2\u001b[0;31m \u001b[0mdoc3\u001b[0m\u001b[0;34m[\u001b[0m\u001b[0;36m7\u001b[0m\u001b[0;34m]\u001b[0m\u001b[0;34m.\u001b[0m\u001b[0mis_sent_start\u001b[0m \u001b[0;34m=\u001b[0m \u001b[0;32mTrue\u001b[0m\u001b[0;34m\u001b[0m\u001b[0;34m\u001b[0m\u001b[0m\n\u001b[0m",
            "\u001b[0;32mtoken.pyx\u001b[0m in \u001b[0;36mspacy.tokens.token.Token.is_sent_start.__set__\u001b[0;34m()\u001b[0m\n",
            "\u001b[0;31mValueError\u001b[0m: [E043] Refusing to write to token.sent_start if its document is parsed, because this may cause inconsistent state."
          ]
        }
      ]
    },
    {
      "cell_type": "markdown",
      "metadata": {
        "id": "oYoKtWkYCA99"
      },
      "source": [
        "<font color=green>spaCy refuses to change the tag after the document is parsed to prevent inconsistencies in the data.</font>"
      ]
    },
    {
      "cell_type": "markdown",
      "metadata": {
        "id": "clDt_qfcCA99"
      },
      "source": [
        "## Changing the Rules\n",
        "In some cases we want to *replace* spaCy's default sentencizer with our own set of rules. In this section we'll see how the default sentencizer breaks on periods. We'll then replace this behavior with a sentencizer that breaks on linebreaks."
      ]
    },
    {
      "cell_type": "code",
      "metadata": {
        "colab": {
          "base_uri": "https://localhost:8080/",
          "height": 68
        },
        "id": "5pdvHYbrCA9-",
        "outputId": "3f950280-5efe-41ed-da67-92fd7bff8007"
      },
      "source": [
        "nlp = spacy.load('en_core_web_sm')  # reset to the original\n",
        "\n",
        "mystring = u\"This is a sentence. This is another.\\n\\nThis is a \\nthird sentence.\"\n",
        "\n",
        "# SPACY DEFAULT BEHAVIOR:\n",
        "doc = nlp(mystring)\n",
        "\n",
        "for sent in doc.sents:\n",
        "    print([token.text for token in sent])"
      ],
      "execution_count": null,
      "outputs": [
        {
          "output_type": "stream",
          "text": [
            "['This', 'is', 'a', 'sentence', '.']\n",
            "['This', 'is', 'another', '.', '\\n\\n']\n",
            "['This', 'is', 'a', '\\n', 'third', 'sentence', '.']\n"
          ],
          "name": "stdout"
        }
      ]
    },
    {
      "cell_type": "code",
      "metadata": {
        "id": "HnOtIrNxCA-B"
      },
      "source": [
        "# CHANGING THE RULES\n",
        "from spacy.pipeline import SentenceSegmenter\n",
        "\n",
        "def split_on_newlines(doc):\n",
        "    start = 0\n",
        "    seen_newline = False\n",
        "    for word in doc:\n",
        "        if seen_newline:\n",
        "            yield doc[start:word.i]\n",
        "            start = word.i\n",
        "            seen_newline = False\n",
        "        elif word.text.startswith('\\n'): # handles multiple occurrences\n",
        "            seen_newline = True\n",
        "    yield doc[start:]      # handles the last group of tokens\n",
        "\n",
        "\n",
        "sbd = SentenceSegmenter(nlp.vocab, strategy=split_on_newlines)\n",
        "nlp.add_pipe(sbd)"
      ],
      "execution_count": null,
      "outputs": []
    },
    {
      "cell_type": "markdown",
      "metadata": {
        "id": "hM_IV7i_CA-D"
      },
      "source": [
        "<font color=green>While the function `split_on_newlines` can be named anything we want, it's important to use the name `sbd` for the SentenceSegmenter.</font>"
      ]
    },
    {
      "cell_type": "code",
      "metadata": {
        "colab": {
          "base_uri": "https://localhost:8080/",
          "height": 68
        },
        "id": "l5FncSQMCA-E",
        "outputId": "39e4f43b-50f2-46be-8f70-217381f7011a"
      },
      "source": [
        "doc = nlp(mystring)\n",
        "for sent in doc.sents:\n",
        "    print([token.text for token in sent])"
      ],
      "execution_count": null,
      "outputs": [
        {
          "output_type": "stream",
          "text": [
            "['This', 'is', 'a', 'sentence', '.', 'This', 'is', 'another', '.', '\\n\\n']\n",
            "['This', 'is', 'a', '\\n']\n",
            "['third', 'sentence', '.']\n"
          ],
          "name": "stdout"
        }
      ]
    },
    {
      "cell_type": "code",
      "metadata": {
        "id": "DUWmJ9ErSggm"
      },
      "source": [
        ""
      ],
      "execution_count": null,
      "outputs": []
    }
  ]
}